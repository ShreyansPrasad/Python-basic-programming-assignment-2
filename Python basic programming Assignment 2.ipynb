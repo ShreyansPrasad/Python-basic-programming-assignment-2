{
 "cells": [
  {
   "cell_type": "markdown",
   "id": "05d9f026",
   "metadata": {},
   "source": [
    "#Answer1"
   ]
  },
  {
   "cell_type": "code",
   "execution_count": 5,
   "id": "b7be4935",
   "metadata": {},
   "outputs": [
    {
     "name": "stdout",
     "output_type": "stream",
     "text": [
      "Enter in kms: 60\n",
      "Miles: 37.28226\n"
     ]
    }
   ],
   "source": [
    "a=float(input(\"Enter in kms: \"))\n",
    "b=0.621371*a\n",
    "print(\"Miles:\", b)"
   ]
  },
  {
   "cell_type": "markdown",
   "id": "3b755b83",
   "metadata": {},
   "source": [
    "#Answer2"
   ]
  },
  {
   "cell_type": "code",
   "execution_count": 6,
   "id": "e027c92b",
   "metadata": {},
   "outputs": [
    {
     "name": "stdout",
     "output_type": "stream",
     "text": [
      "Enter celcius value: 37\n",
      "Fahrenheit value is:  98.60000000000001\n"
     ]
    }
   ],
   "source": [
    "c=float(input(\"Enter celcius value: \"))\n",
    "f=1.8*c+32\n",
    "print(\"Fahrenheit value is: \", f)"
   ]
  },
  {
   "cell_type": "markdown",
   "id": "7596121f",
   "metadata": {},
   "source": [
    "#Answer3"
   ]
  },
  {
   "cell_type": "code",
   "execution_count": 10,
   "id": "865bbbc0",
   "metadata": {},
   "outputs": [
    {
     "name": "stdout",
     "output_type": "stream",
     "text": [
      "Enter year: 2021\n",
      "Enter month: 5\n",
      "      May 2021\n",
      "Mo Tu We Th Fr Sa Su\n",
      "                1  2\n",
      " 3  4  5  6  7  8  9\n",
      "10 11 12 13 14 15 16\n",
      "17 18 19 20 21 22 23\n",
      "24 25 26 27 28 29 30\n",
      "31\n",
      "\n"
     ]
    }
   ],
   "source": [
    "import calendar\n",
    "y=int(input(\"Enter year: \"))\n",
    "m=int(input(\"Enter month: \"))\n",
    "print(calendar.month(y,m))"
   ]
  },
  {
   "cell_type": "markdown",
   "id": "de31c26c",
   "metadata": {},
   "source": [
    "#Answer4"
   ]
  },
  {
   "cell_type": "code",
   "execution_count": 16,
   "id": "27e2a283",
   "metadata": {},
   "outputs": [
    {
     "name": "stdout",
     "output_type": "stream",
     "text": [
      "Enter value of a 1\n",
      "Enter value of b -5\n",
      "Enter value of c 6\n",
      "The solutions are:  3.0 2.0\n"
     ]
    }
   ],
   "source": [
    "a=float(input(\"Enter value of a \"))\n",
    "b=float(input(\"Enter value of b \"))\n",
    "c=float(input(\"Enter value of c \"))\n",
    "d=(b**2)-(4*a*c)\n",
    "d2=d**0.5\n",
    "q=(-b+d2)/(2*a)\n",
    "w=(-b-d2)/(2*a)\n",
    "print(\"The solutions are: \", q, w)"
   ]
  },
  {
   "cell_type": "markdown",
   "id": "6cc0a9d2",
   "metadata": {},
   "source": [
    "#Answer5"
   ]
  },
  {
   "cell_type": "code",
   "execution_count": 11,
   "id": "646c047d",
   "metadata": {},
   "outputs": [
    {
     "name": "stdout",
     "output_type": "stream",
     "text": [
      "Enter value of x 5\n",
      "Enter value of y 6\n",
      "The value of x is: 6\n",
      "The value of y is: 5\n"
     ]
    }
   ],
   "source": [
    "x=input(\"Enter value of x \")\n",
    "y=input(\"Enter value of y \")\n",
    "x,y=y,x\n",
    "print(\"The value of x is:\", x)\n",
    "print(\"The value of y is:\", y)"
   ]
  },
  {
   "cell_type": "code",
   "execution_count": null,
   "id": "cd0d1d48",
   "metadata": {},
   "outputs": [],
   "source": []
  }
 ],
 "metadata": {
  "kernelspec": {
   "display_name": "Python 3 (ipykernel)",
   "language": "python",
   "name": "python3"
  },
  "language_info": {
   "codemirror_mode": {
    "name": "ipython",
    "version": 3
   },
   "file_extension": ".py",
   "mimetype": "text/x-python",
   "name": "python",
   "nbconvert_exporter": "python",
   "pygments_lexer": "ipython3",
   "version": "3.9.7"
  }
 },
 "nbformat": 4,
 "nbformat_minor": 5
}
